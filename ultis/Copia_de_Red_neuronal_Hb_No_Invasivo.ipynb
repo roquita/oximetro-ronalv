{
  "nbformat": 4,
  "nbformat_minor": 0,
  "metadata": {
    "colab": {
      "name": "Copia de Red neuronal Hb No Invasivo",
      "provenance": []
    },
    "kernelspec": {
      "name": "python3",
      "display_name": "Python 3"
    },
    "language_info": {
      "name": "python"
    }
  },
  "cells": [
    {
      "cell_type": "code",
      "metadata": {
        "id": "Hy_pAhzDZ4gy"
      },
      "source": [
        "import tensorflow as tf\n",
        "import numpy as np"
      ],
      "execution_count": 179,
      "outputs": []
    },
    {
      "cell_type": "code",
      "metadata": {
        "id": "MIrfX72vaL1z"
      },
      "source": [
        "#Tabla de Entrenamiento\n",
        "SPO2 = np.array([98, 97, 92, 96, 99, 93, 98, 94, 97, 92, 95, \n",
        "                 99, 94, 97, 94, 95, 97, 96, 98, 96, 97, 98, 96, \n",
        "                 97, 97, 96, 96, 99, 97, 98], dtype=float) # % Spo2\n",
        "Hb = np.array([15.4, 13.9, 9.4, 14.7, 13.1, 10.2, 12, 10.8, 11.3,\n",
        "               10.4, 11.3, 16.8, 13.8, 13.4, 14.9, 11.8, 14.5, \n",
        "               12.4, 11.7, 15.7, 14, 13.4, 13.9, 13.9, 13, 12.9, \n",
        "               12.5, 16.4, 14, 15.9], dtype=float) #Nivel Hb Invasivo"
      ],
      "execution_count": 180,
      "outputs": []
    },
    {
      "cell_type": "code",
      "metadata": {
        "id": "RIG6Y5jEafFL"
      },
      "source": [
        "#entrada = tf.keras.layers.Dense(units=1, input_shape=[1])\n",
        "\n",
        "oculta1 = tf.keras.layers.Dense(units=2, input_shape=[1])\n",
        "oculta2 = tf.keras.layers.Dense(units=1)\n",
        "\n",
        "salida = tf.keras.layers.Dense(units=1)\n",
        "modelo = tf.keras.Sequential([ oculta1, oculta2, salida])"
      ],
      "execution_count": 181,
      "outputs": []
    },
    {
      "cell_type": "code",
      "metadata": {
        "id": "1_WHzWidbN_8"
      },
      "source": [
        "modelo.compile(\n",
        "    optimizer=tf.keras.optimizers.Adam(0.1),\n",
        "    loss='mean_squared_error'\n",
        ")"
      ],
      "execution_count": 182,
      "outputs": []
    },
    {
      "cell_type": "code",
      "source": [
        "modelo.summary()"
      ],
      "metadata": {
        "colab": {
          "base_uri": "https://localhost:8080/"
        },
        "id": "sQ1doid1re5z",
        "outputId": "9a0154b7-9e19-4364-d8ed-8eb19faa2748"
      },
      "execution_count": 183,
      "outputs": [
        {
          "output_type": "stream",
          "name": "stdout",
          "text": [
            "Model: \"sequential_1\"\n",
            "_________________________________________________________________\n",
            " Layer (type)                Output Shape              Param #   \n",
            "=================================================================\n",
            " dense_3 (Dense)             (None, 2)                 4         \n",
            "                                                                 \n",
            " dense_4 (Dense)             (None, 1)                 3         \n",
            "                                                                 \n",
            " dense_5 (Dense)             (None, 1)                 2         \n",
            "                                                                 \n",
            "=================================================================\n",
            "Total params: 9\n",
            "Trainable params: 9\n",
            "Non-trainable params: 0\n",
            "_________________________________________________________________\n"
          ]
        }
      ]
    },
    {
      "cell_type": "code",
      "metadata": {
        "id": "4D-NuUTnbabR",
        "colab": {
          "base_uri": "https://localhost:8080/"
        },
        "outputId": "633c34e3-d772-4881-93f2-26cd95f6ad80"
      },
      "source": [
        "print(\"Entrenando Red Neuronal...\")\n",
        "historial = modelo.fit(SPO2, Hb, epochs= 100, verbose=False)\n",
        "print(\"Red neuronal entrenada!\")"
      ],
      "execution_count": 184,
      "outputs": [
        {
          "output_type": "stream",
          "name": "stdout",
          "text": [
            "Entrenando Red Neuronal...\n",
            "Red neuronal entrenada!\n"
          ]
        }
      ]
    },
    {
      "cell_type": "code",
      "metadata": {
        "id": "px43cF3Nb3mG",
        "colab": {
          "base_uri": "https://localhost:8080/",
          "height": 297
        },
        "outputId": "1cca339a-e6e8-4c99-a17f-345facda4aab"
      },
      "source": [
        "import matplotlib.pyplot as plt\n",
        "plt.xlabel(\"# Epoca\")\n",
        "plt.ylabel(\"Magnitud de pérdida\")\n",
        "plt.plot(historial.history[\"loss\"])"
      ],
      "execution_count": 185,
      "outputs": [
        {
          "output_type": "execute_result",
          "data": {
            "text/plain": [
              "[<matplotlib.lines.Line2D at 0x7fee33dbc150>]"
            ]
          },
          "metadata": {},
          "execution_count": 185
        },
        {
          "output_type": "display_data",
          "data": {
            "text/plain": [
              "<Figure size 432x288 with 1 Axes>"
            ],
            "image/png": "[encoded data removed]"
          },
          "metadata": {
            "needs_background": "light"
          }
        }
      ]
    },
    {
      "cell_type": "code",
      "metadata": {
        "id": "esVvhzjMcV9f",
        "colab": {
          "base_uri": "https://localhost:8080/"
        },
        "outputId": "a87cbb39-6b3d-40b5-b8ac-e34b7042eed4"
      },
      "source": [
        "print(\"Sistema de Red Neuronal Hb No Invasivo\")\n",
        "resultado = modelo.predict([ 66 ])\n",
        "print(\"Resultado\" + str(resultado) + \"Hb\")"
      ],
      "execution_count": 186,
      "outputs": [
        {
          "output_type": "stream",
          "name": "stdout",
          "text": [
            "Sistema de Red Neuronal Hb No Invasivo\n",
            "Resultado[[9.9962635]]Hb\n"
          ]
        }
      ]
    },
    {
      "cell_type": "code",
      "metadata": {
        "id": "FVDejrBgcokc",
        "colab": {
          "base_uri": "https://localhost:8080/"
        },
        "outputId": "76e2b833-9359-4dfe-fd5e-898f01088e61"
      },
      "source": [
        "print(\"Variables internas del modelo\")\n",
        "#print(entrada.get_weights())\n",
        "print(\"oculta1:\",oculta1.get_weights())\n",
        "print(\"oculta2:\",oculta2.get_weights())\n",
        "print(\"salida:\",salida.get_weights())"
      ],
      "execution_count": 187,
      "outputs": [
        {
          "output_type": "stream",
          "name": "stdout",
          "text": [
            "Variables internas del modelo\n",
            "oculta1: [array([[-0.9728594 , -0.03281363]], dtype=float32), array([-1.5597897, -0.8873913], dtype=float32)]\n",
            "oculta2: [array([[-0.4332955 ],\n",
            "       [ 0.25875148]], dtype=float32), array([0.876817], dtype=float32)]\n",
            "salida: [array([[0.2646474]], dtype=float32), array([2.4315758], dtype=float32)]\n"
          ]
        }
      ]
    },
    {
      "cell_type": "code",
      "source": [
        "historial = modelo.fit(SPO2, Hb, epochs= 100, batch_size=16, validation_data=(SPO2, Hb))"
      ],
      "metadata": {
        "id": "G1voY4P0rR4K",
        "colab": {
          "base_uri": "https://localhost:8080/"
        },
        "outputId": "4c52d35f-338d-47f7-e212-cab2375be305"
      },
      "execution_count": 188,
      "outputs": [
        {
          "output_type": "stream",
          "name": "stdout",
          "text": [
            "Epoch 1/100\n",
            "2/2 [==============================] - 0s 164ms/step - loss: 3.1116 - val_loss: 2.9890\n",
            "Epoch 2/100\n",
            "2/2 [==============================] - 0s 34ms/step - loss: 3.0270 - val_loss: 3.0372\n",
            "Epoch 3/100\n",
            "2/2 [==============================] - 0s 47ms/step - loss: 3.1223 - val_loss: 2.9888\n",
            "Epoch 4/100\n",
            "2/2 [==============================] - 0s 35ms/step - loss: 3.0557 - val_loss: 2.9923\n",
            "Epoch 5/100\n",
            "2/2 [==============================] - 0s 39ms/step - loss: 3.1599 - val_loss: 2.9888\n",
            "Epoch 6/100\n",
            "2/2 [==============================] - 0s 58ms/step - loss: 3.0202 - val_loss: 3.0936\n",
            "Epoch 7/100\n",
            "2/2 [==============================] - 0s 35ms/step - loss: 3.0884 - val_loss: 3.0184\n",
            "Epoch 8/100\n",
            "2/2 [==============================] - 0s 37ms/step - loss: 3.0311 - val_loss: 3.0236\n",
            "Epoch 9/100\n",
            "2/2 [==============================] - 0s 36ms/step - loss: 3.0664 - val_loss: 3.0083\n",
            "Epoch 10/100\n",
            "2/2 [==============================] - 0s 35ms/step - loss: 3.1177 - val_loss: 3.0158\n",
            "Epoch 11/100\n",
            "2/2 [==============================] - 0s 33ms/step - loss: 3.0068 - val_loss: 3.0238\n",
            "Epoch 12/100\n",
            "2/2 [==============================] - 0s 37ms/step - loss: 3.1514 - val_loss: 3.0613\n",
            "Epoch 13/100\n",
            "2/2 [==============================] - 0s 31ms/step - loss: 3.0640 - val_loss: 3.0186\n",
            "Epoch 14/100\n",
            "2/2 [==============================] - 0s 32ms/step - loss: 3.0949 - val_loss: 3.0174\n",
            "Epoch 15/100\n",
            "2/2 [==============================] - 0s 33ms/step - loss: 3.0425 - val_loss: 3.0068\n",
            "Epoch 16/100\n",
            "2/2 [==============================] - 0s 35ms/step - loss: 3.0539 - val_loss: 3.0022\n",
            "Epoch 17/100\n",
            "2/2 [==============================] - 0s 29ms/step - loss: 3.0003 - val_loss: 3.0153\n",
            "Epoch 18/100\n",
            "2/2 [==============================] - 0s 29ms/step - loss: 3.0286 - val_loss: 3.0030\n",
            "Epoch 19/100\n",
            "2/2 [==============================] - 0s 27ms/step - loss: 3.0006 - val_loss: 2.9894\n",
            "Epoch 20/100\n",
            "2/2 [==============================] - 0s 26ms/step - loss: 2.9905 - val_loss: 2.9942\n",
            "Epoch 21/100\n",
            "2/2 [==============================] - 0s 26ms/step - loss: 2.9946 - val_loss: 2.9913\n",
            "Epoch 22/100\n",
            "2/2 [==============================] - 0s 38ms/step - loss: 3.0941 - val_loss: 2.9893\n",
            "Epoch 23/100\n",
            "2/2 [==============================] - 0s 26ms/step - loss: 3.2333 - val_loss: 3.0796\n",
            "Epoch 24/100\n",
            "2/2 [==============================] - 0s 30ms/step - loss: 3.0422 - val_loss: 2.9891\n",
            "Epoch 25/100\n",
            "2/2 [==============================] - 0s 32ms/step - loss: 3.0062 - val_loss: 3.0934\n",
            "Epoch 26/100\n",
            "2/2 [==============================] - 0s 43ms/step - loss: 3.1713 - val_loss: 3.0201\n",
            "Epoch 27/100\n",
            "2/2 [==============================] - 0s 29ms/step - loss: 2.9693 - val_loss: 3.0955\n",
            "Epoch 28/100\n",
            "2/2 [==============================] - 0s 27ms/step - loss: 3.0972 - val_loss: 3.0683\n",
            "Epoch 29/100\n",
            "2/2 [==============================] - 0s 30ms/step - loss: 3.0401 - val_loss: 2.9878\n",
            "Epoch 30/100\n",
            "2/2 [==============================] - 0s 32ms/step - loss: 2.9718 - val_loss: 3.0505\n",
            "Epoch 31/100\n",
            "2/2 [==============================] - 0s 28ms/step - loss: 3.0511 - val_loss: 3.0095\n",
            "Epoch 32/100\n",
            "2/2 [==============================] - 0s 26ms/step - loss: 3.0126 - val_loss: 2.9882\n",
            "Epoch 33/100\n",
            "2/2 [==============================] - 0s 25ms/step - loss: 2.9916 - val_loss: 3.0419\n",
            "Epoch 34/100\n",
            "2/2 [==============================] - 0s 26ms/step - loss: 3.0431 - val_loss: 2.9902\n",
            "Epoch 35/100\n",
            "2/2 [==============================] - 0s 29ms/step - loss: 3.0844 - val_loss: 3.0076\n",
            "Epoch 36/100\n",
            "2/2 [==============================] - 0s 26ms/step - loss: 3.0048 - val_loss: 2.9915\n",
            "Epoch 37/100\n",
            "2/2 [==============================] - 0s 28ms/step - loss: 2.9978 - val_loss: 3.0003\n",
            "Epoch 38/100\n",
            "2/2 [==============================] - 0s 28ms/step - loss: 3.0377 - val_loss: 2.9908\n",
            "Epoch 39/100\n",
            "2/2 [==============================] - 0s 28ms/step - loss: 2.9986 - val_loss: 2.9873\n",
            "Epoch 40/100\n",
            "2/2 [==============================] - 0s 28ms/step - loss: 3.0657 - val_loss: 2.9891\n",
            "Epoch 41/100\n",
            "2/2 [==============================] - 0s 31ms/step - loss: 2.9861 - val_loss: 3.0157\n",
            "Epoch 42/100\n",
            "2/2 [==============================] - 0s 30ms/step - loss: 3.0408 - val_loss: 2.9911\n",
            "Epoch 43/100\n",
            "2/2 [==============================] - 0s 30ms/step - loss: 3.0289 - val_loss: 2.9893\n",
            "Epoch 44/100\n",
            "2/2 [==============================] - 0s 35ms/step - loss: 3.0804 - val_loss: 3.0235\n",
            "Epoch 45/100\n",
            "2/2 [==============================] - 0s 35ms/step - loss: 3.0729 - val_loss: 2.9937\n",
            "Epoch 46/100\n",
            "2/2 [==============================] - 0s 47ms/step - loss: 3.1053 - val_loss: 2.9973\n",
            "Epoch 47/100\n",
            "2/2 [==============================] - 0s 26ms/step - loss: 3.2707 - val_loss: 3.0740\n",
            "Epoch 48/100\n",
            "2/2 [==============================] - 0s 42ms/step - loss: 3.0451 - val_loss: 2.9911\n",
            "Epoch 49/100\n",
            "2/2 [==============================] - 0s 33ms/step - loss: 2.9700 - val_loss: 3.1013\n",
            "Epoch 50/100\n",
            "2/2 [==============================] - 0s 28ms/step - loss: 3.1410 - val_loss: 3.0265\n",
            "Epoch 51/100\n",
            "2/2 [==============================] - 0s 28ms/step - loss: 3.0222 - val_loss: 3.0404\n",
            "Epoch 52/100\n",
            "2/2 [==============================] - 0s 31ms/step - loss: 3.0775 - val_loss: 3.2190\n",
            "Epoch 53/100\n",
            "2/2 [==============================] - 0s 29ms/step - loss: 3.2166 - val_loss: 2.9939\n",
            "Epoch 54/100\n",
            "2/2 [==============================] - 0s 27ms/step - loss: 3.0166 - val_loss: 3.0588\n",
            "Epoch 55/100\n",
            "2/2 [==============================] - 0s 47ms/step - loss: 3.0524 - val_loss: 2.9864\n",
            "Epoch 56/100\n",
            "2/2 [==============================] - 0s 30ms/step - loss: 3.0038 - val_loss: 3.0827\n",
            "Epoch 57/100\n",
            "2/2 [==============================] - 0s 27ms/step - loss: 3.1608 - val_loss: 2.9956\n",
            "Epoch 58/100\n",
            "2/2 [==============================] - 0s 26ms/step - loss: 3.0464 - val_loss: 3.1707\n",
            "Epoch 59/100\n",
            "2/2 [==============================] - 0s 30ms/step - loss: 3.1551 - val_loss: 2.9970\n",
            "Epoch 60/100\n",
            "2/2 [==============================] - 0s 31ms/step - loss: 2.9741 - val_loss: 3.0303\n",
            "Epoch 61/100\n",
            "2/2 [==============================] - 0s 30ms/step - loss: 3.0350 - val_loss: 3.0149\n",
            "Epoch 62/100\n",
            "2/2 [==============================] - 0s 27ms/step - loss: 3.0055 - val_loss: 2.9950\n",
            "Epoch 63/100\n",
            "2/2 [==============================] - 0s 27ms/step - loss: 3.0947 - val_loss: 3.0805\n",
            "Epoch 64/100\n",
            "2/2 [==============================] - 0s 30ms/step - loss: 3.0409 - val_loss: 3.0001\n",
            "Epoch 65/100\n",
            "2/2 [==============================] - 0s 27ms/step - loss: 2.9963 - val_loss: 3.0436\n",
            "Epoch 66/100\n",
            "2/2 [==============================] - 0s 46ms/step - loss: 3.0660 - val_loss: 2.9902\n",
            "Epoch 67/100\n",
            "2/2 [==============================] - 0s 30ms/step - loss: 2.9931 - val_loss: 3.0687\n",
            "Epoch 68/100\n",
            "2/2 [==============================] - 0s 32ms/step - loss: 3.0593 - val_loss: 2.9951\n",
            "Epoch 69/100\n",
            "2/2 [==============================] - 0s 25ms/step - loss: 2.9757 - val_loss: 3.0178\n",
            "Epoch 70/100\n",
            "2/2 [==============================] - 0s 38ms/step - loss: 3.0812 - val_loss: 3.0364\n",
            "Epoch 71/100\n",
            "2/2 [==============================] - 0s 28ms/step - loss: 3.3039 - val_loss: 3.0598\n",
            "Epoch 72/100\n",
            "2/2 [==============================] - 0s 29ms/step - loss: 3.1452 - val_loss: 2.9852\n",
            "Epoch 73/100\n",
            "2/2 [==============================] - 0s 28ms/step - loss: 3.0747 - val_loss: 3.2127\n",
            "Epoch 74/100\n",
            "2/2 [==============================] - 0s 31ms/step - loss: 3.2225 - val_loss: 2.9851\n",
            "Epoch 75/100\n",
            "2/2 [==============================] - 0s 27ms/step - loss: 2.9387 - val_loss: 3.2850\n",
            "Epoch 76/100\n",
            "2/2 [==============================] - 0s 28ms/step - loss: 3.2526 - val_loss: 3.0232\n",
            "Epoch 77/100\n",
            "2/2 [==============================] - 0s 26ms/step - loss: 2.9534 - val_loss: 3.1180\n",
            "Epoch 78/100\n",
            "2/2 [==============================] - 0s 26ms/step - loss: 3.1686 - val_loss: 3.0623\n",
            "Epoch 79/100\n",
            "2/2 [==============================] - 0s 28ms/step - loss: 3.1736 - val_loss: 3.1142\n",
            "Epoch 80/100\n",
            "2/2 [==============================] - 0s 27ms/step - loss: 3.1040 - val_loss: 2.9961\n",
            "Epoch 81/100\n",
            "2/2 [==============================] - 0s 27ms/step - loss: 3.3040 - val_loss: 3.1073\n",
            "Epoch 82/100\n",
            "2/2 [==============================] - 0s 28ms/step - loss: 3.3193 - val_loss: 3.0392\n",
            "Epoch 83/100\n",
            "2/2 [==============================] - 0s 29ms/step - loss: 3.0273 - val_loss: 2.9850\n",
            "Epoch 84/100\n",
            "2/2 [==============================] - 0s 28ms/step - loss: 2.9776 - val_loss: 3.0176\n",
            "Epoch 85/100\n",
            "2/2 [==============================] - 0s 35ms/step - loss: 3.0392 - val_loss: 2.9908\n",
            "Epoch 86/100\n",
            "2/2 [==============================] - 0s 30ms/step - loss: 2.9724 - val_loss: 3.0239\n",
            "Epoch 87/100\n",
            "2/2 [==============================] - 0s 27ms/step - loss: 3.0241 - val_loss: 3.0165\n",
            "Epoch 88/100\n",
            "2/2 [==============================] - 0s 27ms/step - loss: 3.3164 - val_loss: 2.9970\n",
            "Epoch 89/100\n",
            "2/2 [==============================] - 0s 29ms/step - loss: 3.0441 - val_loss: 3.0124\n",
            "Epoch 90/100\n",
            "2/2 [==============================] - 0s 29ms/step - loss: 3.0177 - val_loss: 3.1080\n",
            "Epoch 91/100\n",
            "2/2 [==============================] - 0s 32ms/step - loss: 3.0702 - val_loss: 2.9855\n",
            "Epoch 92/100\n",
            "2/2 [==============================] - 0s 32ms/step - loss: 3.0971 - val_loss: 3.0968\n",
            "Epoch 93/100\n",
            "2/2 [==============================] - 0s 29ms/step - loss: 3.1617 - val_loss: 2.9953\n",
            "Epoch 94/100\n",
            "2/2 [==============================] - 0s 33ms/step - loss: 3.1084 - val_loss: 3.3169\n",
            "Epoch 95/100\n",
            "2/2 [==============================] - 0s 38ms/step - loss: 3.2634 - val_loss: 2.9862\n",
            "Epoch 96/100\n",
            "2/2 [==============================] - 0s 28ms/step - loss: 2.9151 - val_loss: 3.3758\n",
            "Epoch 97/100\n",
            "2/2 [==============================] - 0s 27ms/step - loss: 3.3920 - val_loss: 2.9932\n",
            "Epoch 98/100\n",
            "2/2 [==============================] - 0s 26ms/step - loss: 2.9686 - val_loss: 3.0349\n",
            "Epoch 99/100\n",
            "2/2 [==============================] - 0s 28ms/step - loss: 3.1016 - val_loss: 3.0157\n",
            "Epoch 100/100\n",
            "2/2 [==============================] - 0s 26ms/step - loss: 2.9657 - val_loss: 3.0600\n"
          ]
        }
      ]
    },
    {
      "cell_type": "code",
      "source": [
        "from google.colab import drive\n",
        "drive.mount('/content/gdrive')"
      ],
      "metadata": {
        "colab": {
          "base_uri": "https://localhost:8080/"
        },
        "id": "l7h2N_IyBSSm",
        "outputId": "572ec9fc-cbd9-44e4-bf71-cf0bf3b72172"
      },
      "execution_count": 189,
      "outputs": [
        {
          "output_type": "stream",
          "name": "stdout",
          "text": [
            "Drive already mounted at /content/gdrive; to attempt to forcibly remount, call drive.mount(\"/content/gdrive\", force_remount=True).\n"
          ]
        }
      ]
    },
    {
      "cell_type": "code",
      "source": [
        "\n",
        "\n",
        "converter = tf.lite.TFLiteConverter.from_keras_model(modelo)\n",
        "converter.optimizations = [tf.lite.Optimize.DEFAULT]\n",
        "\n",
        "def representative_dataset_gen():\n",
        "    for _ in range(150):\n",
        "        yield [\n",
        "            np.array(\n",
        "                [np.random.uniform(0,100,None)]\n",
        "            , dtype=np.float32)\n",
        "        ]\n",
        "print(representative_dataset_gen())\n",
        "\n",
        "converter.representative_dataset = representative_dataset_gen\n",
        "\n",
        "converter.target_spec.supported_ops = [tf.lite.OpsSet.TFLITE_BUILTINS_INT8]\n",
        "tflite_quant_model = converter.convert()\n",
        "open(\"/content/gdrive/My Drive/converted_model.tflite\", \"wb\").write(tflite_quant_model)\n",
        "\n"
      ],
      "metadata": {
        "colab": {
          "base_uri": "https://localhost:8080/"
        },
        "id": "Z-qKS4pE3RTb",
        "outputId": "b027c7ba-55f7-4356-87a2-052a742f191f"
      },
      "execution_count": 190,
      "outputs": [
        {
          "output_type": "stream",
          "name": "stdout",
          "text": [
            "<generator object representative_dataset_gen at 0x7fee34b0d4d0>\n",
            "INFO:tensorflow:Assets written to: /tmp/tmpcgcmd6f_/assets\n"
          ]
        },
        {
          "output_type": "stream",
          "name": "stderr",
          "text": [
            "INFO:tensorflow:Assets written to: /tmp/tmpcgcmd6f_/assets\n",
            "/usr/local/lib/python3.7/dist-packages/tensorflow/lite/python/convert.py:746: UserWarning: Statistics for quantized inputs were expected, but not specified; continuing anyway.\n",
            "  warnings.warn(\"Statistics for quantized inputs were expected, but not \"\n",
            "WARNING:absl:Buffer deduplication procedure will be skipped when flatbuffer library is not properly loaded\n"
          ]
        },
        {
          "output_type": "execute_result",
          "data": {
            "text/plain": [
              "2184"
            ]
          },
          "metadata": {},
          "execution_count": 190
        }
      ]
    },
    {
      "cell_type": "code",
      "source": [
        "import numpy as np\n",
        "import tensorflow as tf\n",
        "\n",
        "# Load TFLite model and allocate tensors.\n",
        "interpreter = tf.lite.Interpreter(model_path=\"/content/gdrive/My Drive/converted_model.tflite\")\n",
        "interpreter.allocate_tensors()\n",
        "\n",
        "# Get input and output tensors.\n",
        "input_details = interpreter.get_input_details()\n",
        "output_details = interpreter.get_output_details()\n",
        "\n",
        "# Test model on random input data.\n",
        "input_shape = input_details[0]['shape']\n",
        "input_data =  np.array( [[88.0]] , dtype=np.float32) \n",
        "interpreter.set_tensor(input_details[0]['index'], input_data)\n",
        "\n",
        "interpreter.invoke()\n",
        "\n",
        "# The function `get_tensor()` returns a copy of the tensor data.\n",
        "# Use `tensor()` in order to get a pointer to the tensor.\n",
        "output_data = interpreter.get_tensor(output_details[0]['index'])\n",
        "print(output_data)"
      ],
      "metadata": {
        "colab": {
          "base_uri": "https://localhost:8080/"
        },
        "id": "d-xXmdj5JLYf",
        "outputId": "fe23465e-37ce-43d4-d431-e1240d268a52"
      },
      "execution_count": 194,
      "outputs": [
        {
          "output_type": "stream",
          "name": "stdout",
          "text": [
            "[[12.565241]]\n"
          ]
        }
      ]
    },
    {
      "cell_type": "code",
      "source": [
        "print(\"Sistema de Red Neuronal Hb No Invasivo\")\n",
        "resultado = modelo.predict([88])\n",
        "print(\"Resultado\" + str(resultado) + \"Hb\")"
      ],
      "metadata": {
        "colab": {
          "base_uri": "https://localhost:8080/"
        },
        "id": "UiX15MOyL_5e",
        "outputId": "db0ee13c-c645-4526-9063-19c723ccaf8f"
      },
      "execution_count": 193,
      "outputs": [
        {
          "output_type": "stream",
          "name": "stdout",
          "text": [
            "Sistema de Red Neuronal Hb No Invasivo\n",
            "Resultado[[12.605691]]Hb\n"
          ]
        }
      ]
    },
    {
      "cell_type": "code",
      "source": [
        "!xxd -i converted_model.tflite > model_data.cc"
      ],
      "metadata": {
        "id": "A-966kqY3d3k"
      },
      "execution_count": null,
      "outputs": []
    }
  ]
}